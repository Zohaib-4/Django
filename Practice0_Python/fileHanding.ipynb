{
 "cells": [
  {
   "cell_type": "code",
   "execution_count": 16,
   "metadata": {},
   "outputs": [
    {
     "name": "stdout",
     "output_type": "stream",
     "text": [
      "10\n"
     ]
    }
   ],
   "source": [
    "reading = open(\"test.txt\", \"r\")\n",
    "\n",
    "count =0\n",
    "for x in reading:\n",
    "    count = count + len(x.split())\n",
    "\n",
    "print(count)\n",
    "\n",
    "reading.close()\n",
    "# print(reading.read())"
   ]
  },
  {
   "cell_type": "code",
   "execution_count": 20,
   "metadata": {},
   "outputs": [
    {
     "name": "stdout",
     "output_type": "stream",
     "text": [
      "Hello this is zohaib gujjar \n",
      "\n",
      "thanks for opening the file\n",
      "Hello this is zohaib gujjar \n",
      "thanks for opening the file\n"
     ]
    }
   ],
   "source": [
    "dest = open(\"destination.txt\", \"w\")\n",
    "reading = open(\"test.txt\", \"r\")\n",
    "\n",
    "for x in reading:\n",
    "    print(x)\n",
    "    dest.write(x)\n",
    "\n",
    "dest.close()\n",
    "\n",
    "dest1 = open(\"destination.txt\", \"r\")\n",
    "\n",
    "print(dest1.read())\n",
    "dest1.close()\n",
    "reading.close()"
   ]
  },
  {
   "cell_type": "code",
   "execution_count": 32,
   "metadata": {},
   "outputs": [
    {
     "name": "stdout",
     "output_type": "stream",
     "text": [
      "this is new but have to be new and\n",
      "the behaviour should be new\n",
      "how new is that replace it with new\n"
     ]
    }
   ],
   "source": [
    "reading = open(\"note.txt\", \"r\")\n",
    "reader = reading.read()\n",
    "print(reader.replace(\"old\",\"new\"))\n",
    "# writing = open(\"new.txt\", \"w\")\n",
    "\n",
    "# replacing =\"\"\n",
    "\n",
    "# for x in reader:\n",
    "#     replacing = x\n",
    "#     if \"old\" in replacing:\n",
    "#         replacing.replace(\"old\",\"new\")\n",
    "#         print(replacing)\n",
    "#     writing.write(replacing)\n",
    "\n",
    "# writing.close()\n",
    "# writing = open(\"new.txt\", \"r\")\n",
    "# print(writing.read())\n",
    "# writing.close()\n",
    "# reading.close()\n"
   ]
  },
  {
   "cell_type": "code",
   "execution_count": 28,
   "metadata": {},
   "outputs": [
    {
     "name": "stdout",
     "output_type": "stream",
     "text": [
      "this is string\n"
     ]
    }
   ],
   "source": [
    "reading = open(\"note.txt\", \"r\")\n",
    "writing = open(\".txt\", \"w\")\n",
    "\n",
    "\n",
    "reading.split()\n",
    "\n",
    "str=\" \"\n",
    "str=str.join(lst)\n",
    "print(str)"
   ]
  },
  {
   "cell_type": "code",
   "execution_count": 50,
   "metadata": {},
   "outputs": [
    {
     "name": "stdout",
     "output_type": "stream",
     "text": [
      "[[1, 2, 3], [4, 5, 6], [7, 8, 9]]\n",
      "[1, 2, 3]\n",
      "[4, 5, 6]\n",
      "[7, 8, 9]\n"
     ]
    }
   ],
   "source": [
    "\n",
    "matrix=[]\n",
    "\n",
    "count=1\n",
    "for row in range(3):\n",
    "    matrix.append([])\n",
    "    for col in range(3):\n",
    "        matrix[row].append(count)\n",
    "        count+=1\n",
    "    # print(matrix[row])\n",
    "\n",
    "print(matrix)\n",
    "\n",
    "for x in range(3):\n",
    "    print(matrix[x])\n"
   ]
  },
  {
   "cell_type": "code",
   "execution_count": 53,
   "metadata": {},
   "outputs": [
    {
     "name": "stdout",
     "output_type": "stream",
     "text": [
      "c:\\Users\\ZOHAIB\\Desktop\\Django\\Python Practice\n"
     ]
    }
   ],
   "source": [
    "import os\n",
    "\n",
    "cwd = os.getcwd()\n",
    "\n",
    "print(cwd)"
   ]
  }
 ],
 "metadata": {
  "kernelspec": {
   "display_name": "base",
   "language": "python",
   "name": "python3"
  },
  "language_info": {
   "codemirror_mode": {
    "name": "ipython",
    "version": 3
   },
   "file_extension": ".py",
   "mimetype": "text/x-python",
   "name": "python",
   "nbconvert_exporter": "python",
   "pygments_lexer": "ipython3",
   "version": "3.12.4"
  }
 },
 "nbformat": 4,
 "nbformat_minor": 2
}
