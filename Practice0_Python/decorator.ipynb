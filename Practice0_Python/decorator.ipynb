{
 "cells": [
  {
   "cell_type": "code",
   "execution_count": 4,
   "metadata": {},
   "outputs": [
    {
     "name": "stdout",
     "output_type": "stream",
     "text": [
      "Before function calling\n",
      "Hello\n",
      "After function calling\n"
     ]
    }
   ],
   "source": [
    "def my_decorator(func):\n",
    "    def wrapper():\n",
    "        print(\"Before function calling\")\n",
    "        func()\n",
    "        print(\"After function calling\")\n",
    "    return wrapper\n",
    "\n",
    "@my_decorator\n",
    "def say_hello():\n",
    "    print(\"Hello\")\n",
    "\n",
    "say_hello()"
   ]
  },
  {
   "cell_type": "code",
   "execution_count": 34,
   "metadata": {},
   "outputs": [
    {
     "name": "stdout",
     "output_type": "stream",
     "text": [
      "120\n",
      "0.0\n"
     ]
    }
   ],
   "source": [
    "import time\n",
    "\n",
    "def time_it(func):\n",
    "    def wrapper():\n",
    "        x=time.time()\n",
    "        func()\n",
    "        y=time.time()\n",
    "        print(y-x)\n",
    "        # print(y-x)\n",
    "    return wrapper\n",
    "\n",
    "@time_it\n",
    "def fact():\n",
    "    fact = 1\n",
    "    for x in range(1,6):\n",
    "        fact=fact*x\n",
    "    print(fact)\n",
    "\n",
    "fact()"
   ]
  },
  {
   "cell_type": "code",
   "execution_count": 36,
   "metadata": {},
   "outputs": [
    {
     "name": "stdout",
     "output_type": "stream",
     "text": [
      "Bnda is authorized\n",
      "Bnda not authorized\n"
     ]
    }
   ],
   "source": [
    "def require_auth(func):\n",
    "    def authentication(n):\n",
    "        \n",
    "        for x in n:\n",
    "            if x == 'true':\n",
    "                func(n)\n",
    "            else:\n",
    "                print(\"Bnda not authorized\")\n",
    "    return authentication\n",
    "        \n",
    "\n",
    "@require_auth\n",
    "def auth(lst):\n",
    "    print(\"Bnda is authorized\")\n",
    "\n",
    "lst=[\"true\",\"false\"]\n",
    "auth(lst)"
   ]
  }
 ],
 "metadata": {
  "kernelspec": {
   "display_name": "base",
   "language": "python",
   "name": "python3"
  },
  "language_info": {
   "codemirror_mode": {
    "name": "ipython",
    "version": 3
   },
   "file_extension": ".py",
   "mimetype": "text/x-python",
   "name": "python",
   "nbconvert_exporter": "python",
   "pygments_lexer": "ipython3",
   "version": "3.12.4"
  }
 },
 "nbformat": 4,
 "nbformat_minor": 2
}
