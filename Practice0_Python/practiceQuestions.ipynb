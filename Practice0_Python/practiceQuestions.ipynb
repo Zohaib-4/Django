{
 "cells": [
  {
   "cell_type": "code",
   "execution_count": null,
   "metadata": {},
   "outputs": [],
   "source": [
    "# Area of Trianlge\n",
    "\n",
    "base = int(input(\"Enter base of triangle: \"))\n",
    "height = int(input(\"Enter height of triangle: \"))\n",
    "\n",
    "area = 0.5 * base * height\n",
    "print(\"Area of triangle is: \", area)"
   ]
  },
  {
   "cell_type": "code",
   "execution_count": null,
   "metadata": {},
   "outputs": [],
   "source": [
    "# Integer EVEN, ODD\n",
    "\n",
    "num = int(input(\"Enter a number: \"))\n",
    "if num%2== 0:\n",
    "    print(\"Number is even\")\n",
    "else:\n",
    "    print(\"Number is odd\")"
   ]
  },
  {
   "cell_type": "code",
   "execution_count": null,
   "metadata": {},
   "outputs": [],
   "source": [
    "# Factorial\n",
    "\n",
    "num = int(input(\"Enter a number: \"))\n",
    "\n",
    "factorial = 1\n",
    "\n",
    "if num < 0:\n",
    "    print(\"Factorial does not exist for negative numbers\")\n",
    "elif num == 0:\n",
    "    print(\"Factorial of 0 is 1\")\n",
    "else:\n",
    "    #factorial\n",
    "    for i in range(1, num+1):\n",
    "        factorial = factorial * i\n",
    "\n",
    "print(\"Factorial of\", num, \"is\", factorial)\n"
   ]
  },
  {
   "cell_type": "code",
   "execution_count": null,
   "metadata": {},
   "outputs": [],
   "source": [
    "# Largest number in a List\n",
    "\n",
    "a=[1,2,3,14,5,6,7,8,9,10]\n",
    "\n",
    "largest=a[0]\n",
    "\n",
    "for x in a:\n",
    "    if x>largest:\n",
    "        largest=x\n",
    "        \n",
    "print(\"Largest number in list is: \",largest)"
   ]
  },
  {
   "cell_type": "code",
   "execution_count": null,
   "metadata": {},
   "outputs": [],
   "source": [
    "# Leap Year\n",
    "\n",
    "num = int(input(\"Enter the year: \"))\n",
    "\n",
    "if (num %4==0 and num%100 !=0) or (num % 400 ==0):\n",
    "    print(\"Year is leap year\")\n",
    "else:\n",
    "    print(\"Year is not leap\")"
   ]
  },
  {
   "cell_type": "code",
   "execution_count": null,
   "metadata": {},
   "outputs": [],
   "source": [
    "# # Integer POSITIVE, NEGATIVE, ZERO\n",
    "\n",
    "num = float(input(\"Enter a number: \"))\n",
    "if num > 0:\n",
    "    print(\"Number is positive\")\n",
    "elif num == 0:\n",
    "    print(\"Number is zero\")\n",
    "else:\n",
    "    print(\"Number is negative\")"
   ]
  },
  {
   "cell_type": "code",
   "execution_count": null,
   "metadata": {},
   "outputs": [],
   "source": [
    "# Prime Number or Not\n",
    "\n",
    "def prime(num):\n",
    "    \n",
    "    for x in range(2, num):\n",
    "        if num%x==0:\n",
    "            print(\"Number is not prime\")\n",
    "            return\n",
    "\n",
    "    print(\"Number is prime\")\n",
    "\n",
    "num = int(input(\"Enter the number: \"))\n",
    "prime(num)"
   ]
  },
  {
   "cell_type": "code",
   "execution_count": null,
   "metadata": {},
   "outputs": [],
   "source": [
    "# Palindrome"
   ]
  },
  {
   "cell_type": "code",
   "execution_count": null,
   "metadata": {},
   "outputs": [],
   "source": [
    "# Table till 10\n",
    "\n",
    "num = int(input(\"Enter the number for table: \"))\n",
    "\n",
    "for x in range(1,11):\n",
    "    print(num ,'x', x , '=' ,(num*x) )"
   ]
  }
 ],
 "metadata": {
  "kernelspec": {
   "display_name": "Python 3",
   "language": "python",
   "name": "python3"
  },
  "language_info": {
   "codemirror_mode": {
    "name": "ipython",
    "version": 3
   },
   "file_extension": ".py",
   "mimetype": "text/x-python",
   "name": "python",
   "nbconvert_exporter": "python",
   "pygments_lexer": "ipython3",
   "version": "3.12.4"
  }
 },
 "nbformat": 4,
 "nbformat_minor": 2
}
