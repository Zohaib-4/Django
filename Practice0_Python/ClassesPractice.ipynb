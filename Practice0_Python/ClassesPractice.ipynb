{
 "cells": [
  {
   "cell_type": "code",
   "execution_count": 1,
   "metadata": {},
   "outputs": [
    {
     "name": "stdout",
     "output_type": "stream",
     "text": [
      "I am from Sweden\n",
      "I am from India\n",
      "I am from Norway\n",
      "I am from Brazil\n"
     ]
    }
   ],
   "source": [
    "def my_function(country = \"Norway\"):\n",
    "  print(\"I am from \" + country)\n",
    "\n",
    "my_function(\"Sweden\")\n",
    "my_function(\"India\")\n",
    "my_function()\n",
    "my_function(\"Brazil\")"
   ]
  },
  {
   "cell_type": "code",
   "execution_count": 1,
   "metadata": {},
   "outputs": [
    {
     "name": "stdout",
     "output_type": "stream",
     "text": [
      "3\n"
     ]
    }
   ],
   "source": [
    "def fun(c,/):\n",
    "    print(c)\n",
    "\n",
    "fun(3)"
   ]
  },
  {
   "cell_type": "code",
   "execution_count": 4,
   "metadata": {},
   "outputs": [
    {
     "name": "stdout",
     "output_type": "stream",
     "text": [
      "66\n"
     ]
    }
   ],
   "source": [
    "def myfun(n):\n",
    "    return lambda a: a*n\n",
    "\n",
    "mydoubler = myfun(6)\n",
    "\n",
    "print(mydoubler(11))"
   ]
  },
  {
   "cell_type": "code",
   "execution_count": 10,
   "metadata": {},
   "outputs": [
    {
     "data": {
      "text/plain": [
       "[('Luffy', 15), ('David', 20), ('John', 25), ('Alice', 34)]"
      ]
     },
     "execution_count": 10,
     "metadata": {},
     "output_type": "execute_result"
    }
   ],
   "source": [
    "# lambda practice sorting list\n",
    "\n",
    "\n",
    "\n",
    "mylist= [(\"John\", 25),(\"Alice\",34),(\"David\",20),(\"Luffy\",15)]\n",
    "\n",
    "sorted(mylist, key=lambda a: a[1])\n",
    "\n"
   ]
  },
  {
   "cell_type": "code",
   "execution_count": 4,
   "metadata": {},
   "outputs": [
    {
     "name": "stdout",
     "output_type": "stream",
     "text": [
      "[2, 4, 6, 8, 10]\n",
      "[2, 4, 6, 8, 10]\n"
     ]
    }
   ],
   "source": [
    "evenList = [1, 2, 3, 4, 5, 6, 7, 8, 9, 10]\n",
    "\n",
    "var = list(filter(lambda a: a % 2 == 0, evenList))\n",
    "\n",
    "# even_numbers = [x for x in evenList if x % 2 == 0]\n",
    "# print(even_numbers)\n",
    "\n",
    "print(var)"
   ]
  },
  {
   "cell_type": "code",
   "execution_count": 2,
   "metadata": {},
   "outputs": [
    {
     "name": "stdout",
     "output_type": "stream",
     "text": [
      "[1, 4, 9, 16, 25, 36, 49, 64, 81, 100]\n"
     ]
    }
   ],
   "source": [
    "squareList = [1, 2, 3, 4, 5, 6, 7, 8, 9, 10]\n",
    "\n",
    "var = list(map(lambda a: a * a, squareList))\n",
    "\n",
    "print(var)"
   ]
  },
  {
   "cell_type": "code",
   "execution_count": 26,
   "metadata": {},
   "outputs": [
    {
     "name": "stdout",
     "output_type": "stream",
     "text": [
      "200\n"
     ]
    }
   ],
   "source": [
    "class Rectangle:\n",
    "    def __init__(self,width,height):\n",
    "        self.width = width\n",
    "        self.height = height\n",
    "\n",
    "    def calculate_area(self):\n",
    "        return self.width * self.height\n",
    "\n",
    "\n",
    "rect = Rectangle(10,20)\n",
    "\n",
    "print(rect.calculate_area())"
   ]
  },
  {
   "cell_type": "code",
   "execution_count": 28,
   "metadata": {},
   "outputs": [
    {
     "name": "stdout",
     "output_type": "stream",
     "text": [
      "['ali']\n",
      "['umer']\n",
      "['ahmed']\n",
      "[]\n"
     ]
    }
   ],
   "source": [
    "class Bank:\n",
    "    def __init__(self, name):\n",
    "        self.name=name\n",
    "        self.accounts= []\n",
    "\n",
    "    def addAccount(self):\n",
    "        self.accounts.append(self.name)\n",
    "\n",
    "    def removeAccount(self):\n",
    "        self.accounts.remove(self.name)\n",
    "\n",
    "\n",
    "acc1= Bank(\"ali\")\n",
    "acc1.addAccount()\n",
    "\n",
    "acc2= Bank(\"umer\")\n",
    "acc2.addAccount()\n",
    "\n",
    "acc3= Bank(\"ahmed\")\n",
    "acc3.addAccount()\n",
    "\n",
    "print(acc1.accounts)\n",
    "print(acc2.accounts)\n",
    "print(acc3.accounts)\n",
    "\n",
    "acc1.removeAccount()\n",
    "\n",
    "print(acc1.accounts)\n",
    "    \n",
    "\n",
    "    "
   ]
  },
  {
   "cell_type": "code",
   "execution_count": 6,
   "metadata": {},
   "outputs": [
    {
     "name": "stdout",
     "output_type": "stream",
     "text": [
      "Total Price: 400\n"
     ]
    }
   ],
   "source": [
    "class ShoppingCart:\n",
    "    def __init__(self):\n",
    "        self.items = []\n",
    "        self.total_price = 0\n",
    "\n",
    "    def add_item(self, item, price):\n",
    "        self.items.append(item)\n",
    "        self.total_price =self.total_price + price\n",
    "    \n",
    "    def remove_item(self, item, price):\n",
    "        self.items.remove(item)\n",
    "        self.total_price =self.total_price - price\n",
    "\n",
    "    def checkout(self):\n",
    "        if self.total_price == 0:\n",
    "            return \"Your cart is empty\"\n",
    "        else:\n",
    "            return f\"Total Price: {self.total_price}\"\n",
    "        \n",
    "cust1 = ShoppingCart()\n",
    "# cust1.add_item(\"Laptop\", 1200)\n",
    "cust1.add_item(\"HeadPhone\", 400)\n",
    "# cust1.remove_item(\"HeadPhone\",400)\n",
    "\n",
    "print(cust1.checkout())"
   ]
  },
  {
   "cell_type": "code",
   "execution_count": 8,
   "metadata": {},
   "outputs": [
    {
     "name": "stdout",
     "output_type": "stream",
     "text": [
      "600\n"
     ]
    }
   ],
   "source": [
    "class Shape:\n",
    "    def __init__(self, width, height):\n",
    "        self.width = width\n",
    "        self.height = height        \n",
    "\n",
    "    def calculate_area(self):\n",
    "        pass\n",
    "    \n",
    "\n",
    "class Rectangle(Shape):\n",
    "    def __init__(self, width, height):\n",
    "        super().__init__(width, height)\n",
    "\n",
    "    def calculate_area(self):\n",
    "        return self.width * self.height\n",
    "    \n",
    "\n",
    "rectObj = Rectangle(20,30)\n",
    "\n",
    "area=rectObj.calculate_area()\n",
    "\n",
    "print(area)\n",
    "        "
   ]
  },
  {
   "cell_type": "code",
   "execution_count": 1,
   "metadata": {},
   "outputs": [
    {
     "name": "stdout",
     "output_type": "stream",
     "text": [
      "Name:  Ali \n",
      " Age:  20 \n",
      " ID:  7970\n"
     ]
    }
   ],
   "source": [
    "class Person:\n",
    "    def __init__(self, name, age):\n",
    "        self.name = name\n",
    "        self.age = age        \n",
    "\n",
    "    def display_info(self):\n",
    "        pass\n",
    "    \n",
    "\n",
    "class Student(Person):\n",
    "    def __init__(self, name, age, student_id):\n",
    "        super().__init__(name, age)\n",
    "        self.student_id=student_id\n",
    "\n",
    "    def display_info(self):\n",
    "        print(\"Name: \", self.name,'\\n', \"Age: \", self.age, '\\n',\"ID: \", self.student_id)\n",
    "    \n",
    "\n",
    "stu1 = Student(\"Ali\",20,7970)\n",
    "\n",
    "stu1.display_info()\n",
    "\n"
   ]
  },
  {
   "cell_type": "code",
   "execution_count": 9,
   "metadata": {},
   "outputs": [
    {
     "name": "stdout",
     "output_type": "stream",
     "text": [
      "{'name': 'Zohaib', 'age': 20, 'city': 'lahore'}\n"
     ]
    }
   ],
   "source": [
    "import zohaib\n",
    "\n",
    "zohaib=zohaib.zohaib\n",
    "\n",
    "print(zohaib)\n",
    "\n",
    "\n"
   ]
  }
 ],
 "metadata": {
  "kernelspec": {
   "display_name": "Python 3",
   "language": "python",
   "name": "python3"
  },
  "language_info": {
   "codemirror_mode": {
    "name": "ipython",
    "version": 3
   },
   "file_extension": ".py",
   "mimetype": "text/x-python",
   "name": "python",
   "nbconvert_exporter": "python",
   "pygments_lexer": "ipython3",
   "version": "3.12.4"
  }
 },
 "nbformat": 4,
 "nbformat_minor": 2
}
