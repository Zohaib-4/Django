{
 "cells": [
  {
   "cell_type": "code",
   "execution_count": 1,
   "metadata": {},
   "outputs": [
    {
     "name": "stdout",
     "output_type": "stream",
     "text": [
      "{(1, 2): 3, (3, 4): 7, (5, 6): 11}\n"
     ]
    }
   ],
   "source": [
    "# Question 1\n",
    "\n",
    "tup1 = (1,2)\n",
    "tup2 = (3,4)\n",
    "tup3 = (5,6)\n",
    "\n",
    "mydict = {\n",
    "    tup1 : tup1[0]+tup1[1],\n",
    "    tup2 : tup2[0]+tup2[1],\n",
    "    tup3 : tup3[0]+tup3[1],\n",
    "}\n",
    "\n",
    "print(mydict)"
   ]
  },
  {
   "cell_type": "code",
   "execution_count": 17,
   "metadata": {},
   "outputs": [
    {
     "name": "stdout",
     "output_type": "stream",
     "text": [
      "{1: 1, 2: 5, 3: 4, 4: 4}\n"
     ]
    }
   ],
   "source": [
    "# Question 2\n",
    "\n",
    "tuple1 =(1,2,2,2,2,2,3,3,3,3,4,4,4,4)\n",
    "\n",
    "# mylist=[tuple1[0]]\n",
    "\n",
    "# for x in tuple1:\n",
    "        # if x not in mylist:\n",
    "            # mylist.append(x)\n",
    "lvt = list(set(tuple1))\n",
    "\n",
    "mydicty={}\n",
    "for x in lvt:\n",
    "      mydicty[x]=tuple1.count(x)\n",
    "\n",
    "print(mydicty)"
   ]
  },
  {
   "cell_type": "code",
   "execution_count": 23,
   "metadata": {},
   "outputs": [
    {
     "name": "stdout",
     "output_type": "stream",
     "text": [
      "{'name': 'Alice', 'age': '30', 'city': ('Bangladesh', 'France')}\n"
     ]
    }
   ],
   "source": [
    "# Question 3\n",
    "\n",
    "mydict = {\n",
    "    \"name\": \"Alice\",\n",
    "    \"age\": \"30\",\n",
    "    \"city\": (\"Germany\", \"France\")\n",
    "}\n",
    "# mydict[\"city\"]=(\"Bangladesh\", \"France\")\n",
    "lvt=[]\n",
    "lvt=list(mydict[\"city\"])\n",
    "lvt[0]=\"Bangladesh\"\n",
    "mydict[\"city\"]=tuple(lvt)\n",
    "print(mydict)"
   ]
  },
  {
   "cell_type": "code",
   "execution_count": 24,
   "metadata": {},
   "outputs": [
    {
     "name": "stdout",
     "output_type": "stream",
     "text": [
      "{25: ['John', 'Alice'], 30: ['Jane', 'Bob']}\n"
     ]
    }
   ],
   "source": [
    "# Question 5\n",
    "\n",
    "people = [(\"John\",25),(\"Jane\",30),(\"Alice\",25), (\"Bob\",30)]\n",
    "\n",
    "dictionary={}\n",
    "\n",
    "for x in people:\n",
    "    if x[1] in dictionary:\n",
    "        dictionary[x[1]].append(x[0])\n",
    "    else:\n",
    "        dictionary[x[1]]=[x[0]]\n",
    "\n",
    "print(dictionary)"
   ]
  }
 ],
 "metadata": {
  "kernelspec": {
   "display_name": "Python 3",
   "language": "python",
   "name": "python3"
  },
  "language_info": {
   "codemirror_mode": {
    "name": "ipython",
    "version": 3
   },
   "file_extension": ".py",
   "mimetype": "text/x-python",
   "name": "python",
   "nbconvert_exporter": "python",
   "pygments_lexer": "ipython3",
   "version": "3.12.4"
  }
 },
 "nbformat": 4,
 "nbformat_minor": 2
}
